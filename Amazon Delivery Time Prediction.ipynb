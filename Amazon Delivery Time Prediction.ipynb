{
  "cells": [
    {
      "cell_type": "code",
      "execution_count": 1,
      "metadata": {
        "id": "hfIhcG6-38YK"
      },
      "outputs": [],
      "source": [
        "import pandas as pd\n",
        "import numpy as np\n",
        "import seaborn as sns\n",
        "import matplotlib.pyplot as plt\n",
        "from sklearn.linear_model import LinearRegression\n",
        "import joblib\n",
        "import mlflow\n",
        "import mlflow.sklearn\n"
      ]
    },
    {
      "cell_type": "code",
      "execution_count": null,
      "metadata": {},
      "outputs": [],
      "source": []
    },
    {
      "cell_type": "code",
      "execution_count": 2,
      "metadata": {},
      "outputs": [
        {
          "data": {
            "text/html": [
              "<pre style=\"white-space:pre;overflow-x:auto;line-height:normal;font-family:Menlo,'DejaVu Sans Mono',consolas,'Courier New',monospace\">Accessing as Sandhya234-wq\n",
              "</pre>\n"
            ],
            "text/plain": [
              "Accessing as Sandhya234-wq\n"
            ]
          },
          "metadata": {},
          "output_type": "display_data"
        },
        {
          "data": {
            "text/html": [
              "<pre style=\"white-space:pre;overflow-x:auto;line-height:normal;font-family:Menlo,'DejaVu Sans Mono',consolas,'Courier New',monospace\">Initialized MLflow to track repo <span style=\"color: #008000; text-decoration-color: #008000\">\"Sandhya234-wq/MLOPS-Experiments-with-MLFlow\"</span>\n",
              "</pre>\n"
            ],
            "text/plain": [
              "Initialized MLflow to track repo \u001b[32m\"Sandhya234-wq/MLOPS-Experiments-with-MLFlow\"\u001b[0m\n"
            ]
          },
          "metadata": {},
          "output_type": "display_data"
        },
        {
          "data": {
            "text/html": [
              "<pre style=\"white-space:pre;overflow-x:auto;line-height:normal;font-family:Menlo,'DejaVu Sans Mono',consolas,'Courier New',monospace\">Repository Sandhya234-wq/MLOPS-Experiments-with-MLFlow initialized!\n",
              "</pre>\n"
            ],
            "text/plain": [
              "Repository Sandhya234-wq/MLOPS-Experiments-with-MLFlow initialized!\n"
            ]
          },
          "metadata": {},
          "output_type": "display_data"
        }
      ],
      "source": [
        "import dagshub\n",
        "dagshub.init(repo_owner='Sandhya234-wq', repo_name='MLOPS-Experiments-with-MLFlow', mlflow=True)\n",
        "\n",
        "mlflow.set_tracking_uri('https://dagshub.com/Sandhya234-wq/MLOPS-Experiments-with-MLFlow.mlflow')\n"
      ]
    },
    {
      "cell_type": "code",
      "execution_count": null,
      "metadata": {},
      "outputs": [],
      "source": []
    },
    {
      "cell_type": "code",
      "execution_count": 3,
      "metadata": {
        "id": "DxqVfwX54tI0"
      },
      "outputs": [
        {
          "data": {
            "text/html": [
              "<div>\n",
              "<style scoped>\n",
              "    .dataframe tbody tr th:only-of-type {\n",
              "        vertical-align: middle;\n",
              "    }\n",
              "\n",
              "    .dataframe tbody tr th {\n",
              "        vertical-align: top;\n",
              "    }\n",
              "\n",
              "    .dataframe thead th {\n",
              "        text-align: right;\n",
              "    }\n",
              "</style>\n",
              "<table border=\"1\" class=\"dataframe\">\n",
              "  <thead>\n",
              "    <tr style=\"text-align: right;\">\n",
              "      <th></th>\n",
              "      <th>Order_ID</th>\n",
              "      <th>Agent_Age</th>\n",
              "      <th>Agent_Rating</th>\n",
              "      <th>Store_Latitude</th>\n",
              "      <th>Store_Longitude</th>\n",
              "      <th>Drop_Latitude</th>\n",
              "      <th>Drop_Longitude</th>\n",
              "      <th>Order_Date</th>\n",
              "      <th>Order_Time</th>\n",
              "      <th>Pickup_Time</th>\n",
              "      <th>Weather</th>\n",
              "      <th>Traffic</th>\n",
              "      <th>Vehicle</th>\n",
              "      <th>Area</th>\n",
              "      <th>Delivery_Time</th>\n",
              "      <th>Category</th>\n",
              "    </tr>\n",
              "  </thead>\n",
              "  <tbody>\n",
              "    <tr>\n",
              "      <th>0</th>\n",
              "      <td>ialx566343618</td>\n",
              "      <td>37</td>\n",
              "      <td>4.9</td>\n",
              "      <td>22.745049</td>\n",
              "      <td>75.892471</td>\n",
              "      <td>22.765049</td>\n",
              "      <td>75.912471</td>\n",
              "      <td>2022-03-19</td>\n",
              "      <td>11:30:00</td>\n",
              "      <td>11:45:00</td>\n",
              "      <td>Sunny</td>\n",
              "      <td>High</td>\n",
              "      <td>motorcycle</td>\n",
              "      <td>Urban</td>\n",
              "      <td>120</td>\n",
              "      <td>Clothing</td>\n",
              "    </tr>\n",
              "    <tr>\n",
              "      <th>1</th>\n",
              "      <td>akqg208421122</td>\n",
              "      <td>34</td>\n",
              "      <td>4.5</td>\n",
              "      <td>12.913041</td>\n",
              "      <td>77.683237</td>\n",
              "      <td>13.043041</td>\n",
              "      <td>77.813237</td>\n",
              "      <td>2022-03-25</td>\n",
              "      <td>19:45:00</td>\n",
              "      <td>19:50:00</td>\n",
              "      <td>Stormy</td>\n",
              "      <td>Jam</td>\n",
              "      <td>scooter</td>\n",
              "      <td>Metropolitian</td>\n",
              "      <td>165</td>\n",
              "      <td>Electronics</td>\n",
              "    </tr>\n",
              "    <tr>\n",
              "      <th>2</th>\n",
              "      <td>njpu434582536</td>\n",
              "      <td>23</td>\n",
              "      <td>4.4</td>\n",
              "      <td>12.914264</td>\n",
              "      <td>77.678400</td>\n",
              "      <td>12.924264</td>\n",
              "      <td>77.688400</td>\n",
              "      <td>2022-03-19</td>\n",
              "      <td>08:30:00</td>\n",
              "      <td>08:45:00</td>\n",
              "      <td>Sandstorms</td>\n",
              "      <td>Low</td>\n",
              "      <td>motorcycle</td>\n",
              "      <td>Urban</td>\n",
              "      <td>130</td>\n",
              "      <td>Sports</td>\n",
              "    </tr>\n",
              "    <tr>\n",
              "      <th>3</th>\n",
              "      <td>rjto796129700</td>\n",
              "      <td>38</td>\n",
              "      <td>4.7</td>\n",
              "      <td>11.003669</td>\n",
              "      <td>76.976494</td>\n",
              "      <td>11.053669</td>\n",
              "      <td>77.026494</td>\n",
              "      <td>2022-04-05</td>\n",
              "      <td>18:00:00</td>\n",
              "      <td>18:10:00</td>\n",
              "      <td>Sunny</td>\n",
              "      <td>Medium</td>\n",
              "      <td>motorcycle</td>\n",
              "      <td>Metropolitian</td>\n",
              "      <td>105</td>\n",
              "      <td>Cosmetics</td>\n",
              "    </tr>\n",
              "    <tr>\n",
              "      <th>4</th>\n",
              "      <td>zguw716275638</td>\n",
              "      <td>32</td>\n",
              "      <td>4.6</td>\n",
              "      <td>12.972793</td>\n",
              "      <td>80.249982</td>\n",
              "      <td>13.012793</td>\n",
              "      <td>80.289982</td>\n",
              "      <td>2022-03-26</td>\n",
              "      <td>13:30:00</td>\n",
              "      <td>13:45:00</td>\n",
              "      <td>Cloudy</td>\n",
              "      <td>High</td>\n",
              "      <td>scooter</td>\n",
              "      <td>Metropolitian</td>\n",
              "      <td>150</td>\n",
              "      <td>Toys</td>\n",
              "    </tr>\n",
              "    <tr>\n",
              "      <th>...</th>\n",
              "      <td>...</td>\n",
              "      <td>...</td>\n",
              "      <td>...</td>\n",
              "      <td>...</td>\n",
              "      <td>...</td>\n",
              "      <td>...</td>\n",
              "      <td>...</td>\n",
              "      <td>...</td>\n",
              "      <td>...</td>\n",
              "      <td>...</td>\n",
              "      <td>...</td>\n",
              "      <td>...</td>\n",
              "      <td>...</td>\n",
              "      <td>...</td>\n",
              "      <td>...</td>\n",
              "      <td>...</td>\n",
              "    </tr>\n",
              "    <tr>\n",
              "      <th>43734</th>\n",
              "      <td>jlxf819993117</td>\n",
              "      <td>30</td>\n",
              "      <td>4.8</td>\n",
              "      <td>26.902328</td>\n",
              "      <td>75.794257</td>\n",
              "      <td>26.912328</td>\n",
              "      <td>75.804257</td>\n",
              "      <td>2022-03-24</td>\n",
              "      <td>11:35:00</td>\n",
              "      <td>11:45:00</td>\n",
              "      <td>Windy</td>\n",
              "      <td>High</td>\n",
              "      <td>motorcycle</td>\n",
              "      <td>Metropolitian</td>\n",
              "      <td>160</td>\n",
              "      <td>Home</td>\n",
              "    </tr>\n",
              "    <tr>\n",
              "      <th>43735</th>\n",
              "      <td>aevx342135787</td>\n",
              "      <td>21</td>\n",
              "      <td>4.6</td>\n",
              "      <td>0.000000</td>\n",
              "      <td>0.000000</td>\n",
              "      <td>0.070000</td>\n",
              "      <td>0.070000</td>\n",
              "      <td>2022-02-16</td>\n",
              "      <td>19:55:00</td>\n",
              "      <td>20:10:00</td>\n",
              "      <td>Windy</td>\n",
              "      <td>Jam</td>\n",
              "      <td>motorcycle</td>\n",
              "      <td>Metropolitian</td>\n",
              "      <td>180</td>\n",
              "      <td>Jewelry</td>\n",
              "    </tr>\n",
              "    <tr>\n",
              "      <th>43736</th>\n",
              "      <td>xnek760674819</td>\n",
              "      <td>30</td>\n",
              "      <td>4.9</td>\n",
              "      <td>13.022394</td>\n",
              "      <td>80.242439</td>\n",
              "      <td>13.052394</td>\n",
              "      <td>80.272439</td>\n",
              "      <td>2022-03-11</td>\n",
              "      <td>23:50:00</td>\n",
              "      <td>00:05:00</td>\n",
              "      <td>Cloudy</td>\n",
              "      <td>Low</td>\n",
              "      <td>scooter</td>\n",
              "      <td>Metropolitian</td>\n",
              "      <td>80</td>\n",
              "      <td>Home</td>\n",
              "    </tr>\n",
              "    <tr>\n",
              "      <th>43737</th>\n",
              "      <td>cynl434665991</td>\n",
              "      <td>20</td>\n",
              "      <td>4.7</td>\n",
              "      <td>11.001753</td>\n",
              "      <td>76.986241</td>\n",
              "      <td>11.041753</td>\n",
              "      <td>77.026241</td>\n",
              "      <td>2022-03-07</td>\n",
              "      <td>13:35:00</td>\n",
              "      <td>13:40:00</td>\n",
              "      <td>Cloudy</td>\n",
              "      <td>High</td>\n",
              "      <td>motorcycle</td>\n",
              "      <td>Metropolitian</td>\n",
              "      <td>130</td>\n",
              "      <td>Kitchen</td>\n",
              "    </tr>\n",
              "    <tr>\n",
              "      <th>43738</th>\n",
              "      <td>nsyz997960170</td>\n",
              "      <td>23</td>\n",
              "      <td>4.9</td>\n",
              "      <td>23.351058</td>\n",
              "      <td>85.325731</td>\n",
              "      <td>23.431058</td>\n",
              "      <td>85.405731</td>\n",
              "      <td>2022-03-02</td>\n",
              "      <td>17:10:00</td>\n",
              "      <td>17:15:00</td>\n",
              "      <td>Fog</td>\n",
              "      <td>Medium</td>\n",
              "      <td>scooter</td>\n",
              "      <td>Metropolitian</td>\n",
              "      <td>180</td>\n",
              "      <td>Cosmetics</td>\n",
              "    </tr>\n",
              "  </tbody>\n",
              "</table>\n",
              "<p>43739 rows × 16 columns</p>\n",
              "</div>"
            ],
            "text/plain": [
              "            Order_ID  Agent_Age  Agent_Rating  Store_Latitude  \\\n",
              "0      ialx566343618         37           4.9       22.745049   \n",
              "1      akqg208421122         34           4.5       12.913041   \n",
              "2      njpu434582536         23           4.4       12.914264   \n",
              "3      rjto796129700         38           4.7       11.003669   \n",
              "4      zguw716275638         32           4.6       12.972793   \n",
              "...              ...        ...           ...             ...   \n",
              "43734  jlxf819993117         30           4.8       26.902328   \n",
              "43735  aevx342135787         21           4.6        0.000000   \n",
              "43736  xnek760674819         30           4.9       13.022394   \n",
              "43737  cynl434665991         20           4.7       11.001753   \n",
              "43738  nsyz997960170         23           4.9       23.351058   \n",
              "\n",
              "       Store_Longitude  Drop_Latitude  Drop_Longitude  Order_Date Order_Time  \\\n",
              "0            75.892471      22.765049       75.912471  2022-03-19   11:30:00   \n",
              "1            77.683237      13.043041       77.813237  2022-03-25   19:45:00   \n",
              "2            77.678400      12.924264       77.688400  2022-03-19   08:30:00   \n",
              "3            76.976494      11.053669       77.026494  2022-04-05   18:00:00   \n",
              "4            80.249982      13.012793       80.289982  2022-03-26   13:30:00   \n",
              "...                ...            ...             ...         ...        ...   \n",
              "43734        75.794257      26.912328       75.804257  2022-03-24   11:35:00   \n",
              "43735         0.000000       0.070000        0.070000  2022-02-16   19:55:00   \n",
              "43736        80.242439      13.052394       80.272439  2022-03-11   23:50:00   \n",
              "43737        76.986241      11.041753       77.026241  2022-03-07   13:35:00   \n",
              "43738        85.325731      23.431058       85.405731  2022-03-02   17:10:00   \n",
              "\n",
              "      Pickup_Time     Weather  Traffic      Vehicle            Area  \\\n",
              "0        11:45:00       Sunny    High   motorcycle           Urban    \n",
              "1        19:50:00      Stormy     Jam      scooter   Metropolitian    \n",
              "2        08:45:00  Sandstorms     Low   motorcycle           Urban    \n",
              "3        18:10:00       Sunny  Medium   motorcycle   Metropolitian    \n",
              "4        13:45:00      Cloudy    High      scooter   Metropolitian    \n",
              "...           ...         ...      ...          ...             ...   \n",
              "43734    11:45:00       Windy    High   motorcycle   Metropolitian    \n",
              "43735    20:10:00       Windy     Jam   motorcycle   Metropolitian    \n",
              "43736    00:05:00      Cloudy     Low      scooter   Metropolitian    \n",
              "43737    13:40:00      Cloudy    High   motorcycle   Metropolitian    \n",
              "43738    17:15:00         Fog  Medium      scooter   Metropolitian    \n",
              "\n",
              "       Delivery_Time     Category  \n",
              "0                120     Clothing  \n",
              "1                165  Electronics  \n",
              "2                130       Sports  \n",
              "3                105    Cosmetics  \n",
              "4                150         Toys  \n",
              "...              ...          ...  \n",
              "43734            160         Home  \n",
              "43735            180      Jewelry  \n",
              "43736             80         Home  \n",
              "43737            130      Kitchen  \n",
              "43738            180    Cosmetics  \n",
              "\n",
              "[43739 rows x 16 columns]"
            ]
          },
          "execution_count": 3,
          "metadata": {},
          "output_type": "execute_result"
        }
      ],
      "source": [
        "df = pd.read_csv(r\"C:\\Users\\hp\\Downloads\\amazon_delivery.csv\")\n",
        "df"
      ]
    },
    {
      "cell_type": "code",
      "execution_count": 4,
      "metadata": {
        "colab": {
          "base_uri": "https://localhost:8080/",
          "height": 163
        },
        "id": "EtRQNF4M4zGw",
        "outputId": "37d6b06d-89c8-4e7c-a669-8e8f45348ea9"
      },
      "outputs": [
        {
          "data": {
            "text/html": [
              "<div>\n",
              "<style scoped>\n",
              "    .dataframe tbody tr th:only-of-type {\n",
              "        vertical-align: middle;\n",
              "    }\n",
              "\n",
              "    .dataframe tbody tr th {\n",
              "        vertical-align: top;\n",
              "    }\n",
              "\n",
              "    .dataframe thead th {\n",
              "        text-align: right;\n",
              "    }\n",
              "</style>\n",
              "<table border=\"1\" class=\"dataframe\">\n",
              "  <thead>\n",
              "    <tr style=\"text-align: right;\">\n",
              "      <th></th>\n",
              "      <th>Order_ID</th>\n",
              "      <th>Agent_Age</th>\n",
              "      <th>Agent_Rating</th>\n",
              "      <th>Store_Latitude</th>\n",
              "      <th>Store_Longitude</th>\n",
              "      <th>Drop_Latitude</th>\n",
              "      <th>Drop_Longitude</th>\n",
              "      <th>Order_Date</th>\n",
              "      <th>Order_Time</th>\n",
              "      <th>Pickup_Time</th>\n",
              "      <th>Weather</th>\n",
              "      <th>Traffic</th>\n",
              "      <th>Vehicle</th>\n",
              "      <th>Area</th>\n",
              "      <th>Delivery_Time</th>\n",
              "      <th>Category</th>\n",
              "    </tr>\n",
              "  </thead>\n",
              "  <tbody>\n",
              "    <tr>\n",
              "      <th>0</th>\n",
              "      <td>ialx566343618</td>\n",
              "      <td>37</td>\n",
              "      <td>4.9</td>\n",
              "      <td>22.745049</td>\n",
              "      <td>75.892471</td>\n",
              "      <td>22.765049</td>\n",
              "      <td>75.912471</td>\n",
              "      <td>2022-03-19</td>\n",
              "      <td>11:30:00</td>\n",
              "      <td>11:45:00</td>\n",
              "      <td>Sunny</td>\n",
              "      <td>High</td>\n",
              "      <td>motorcycle</td>\n",
              "      <td>Urban</td>\n",
              "      <td>120</td>\n",
              "      <td>Clothing</td>\n",
              "    </tr>\n",
              "    <tr>\n",
              "      <th>1</th>\n",
              "      <td>akqg208421122</td>\n",
              "      <td>34</td>\n",
              "      <td>4.5</td>\n",
              "      <td>12.913041</td>\n",
              "      <td>77.683237</td>\n",
              "      <td>13.043041</td>\n",
              "      <td>77.813237</td>\n",
              "      <td>2022-03-25</td>\n",
              "      <td>19:45:00</td>\n",
              "      <td>19:50:00</td>\n",
              "      <td>Stormy</td>\n",
              "      <td>Jam</td>\n",
              "      <td>scooter</td>\n",
              "      <td>Metropolitian</td>\n",
              "      <td>165</td>\n",
              "      <td>Electronics</td>\n",
              "    </tr>\n",
              "    <tr>\n",
              "      <th>2</th>\n",
              "      <td>njpu434582536</td>\n",
              "      <td>23</td>\n",
              "      <td>4.4</td>\n",
              "      <td>12.914264</td>\n",
              "      <td>77.678400</td>\n",
              "      <td>12.924264</td>\n",
              "      <td>77.688400</td>\n",
              "      <td>2022-03-19</td>\n",
              "      <td>08:30:00</td>\n",
              "      <td>08:45:00</td>\n",
              "      <td>Sandstorms</td>\n",
              "      <td>Low</td>\n",
              "      <td>motorcycle</td>\n",
              "      <td>Urban</td>\n",
              "      <td>130</td>\n",
              "      <td>Sports</td>\n",
              "    </tr>\n",
              "  </tbody>\n",
              "</table>\n",
              "</div>"
            ],
            "text/plain": [
              "        Order_ID  Agent_Age  Agent_Rating  Store_Latitude  Store_Longitude  \\\n",
              "0  ialx566343618         37           4.9       22.745049        75.892471   \n",
              "1  akqg208421122         34           4.5       12.913041        77.683237   \n",
              "2  njpu434582536         23           4.4       12.914264        77.678400   \n",
              "\n",
              "   Drop_Latitude  Drop_Longitude  Order_Date Order_Time Pickup_Time  \\\n",
              "0      22.765049       75.912471  2022-03-19   11:30:00    11:45:00   \n",
              "1      13.043041       77.813237  2022-03-25   19:45:00    19:50:00   \n",
              "2      12.924264       77.688400  2022-03-19   08:30:00    08:45:00   \n",
              "\n",
              "      Weather Traffic      Vehicle            Area  Delivery_Time     Category  \n",
              "0       Sunny   High   motorcycle           Urban             120     Clothing  \n",
              "1      Stormy    Jam      scooter   Metropolitian             165  Electronics  \n",
              "2  Sandstorms    Low   motorcycle           Urban             130       Sports  "
            ]
          },
          "execution_count": 4,
          "metadata": {},
          "output_type": "execute_result"
        }
      ],
      "source": [
        "df.head(3)"
      ]
    },
    {
      "cell_type": "code",
      "execution_count": 5,
      "metadata": {
        "colab": {
          "base_uri": "https://localhost:8080/",
          "height": 585
        },
        "id": "C-rFMGbL5KBI",
        "outputId": "9e2bda02-a311-4eaa-da86-a54f7570b7c6"
      },
      "outputs": [
        {
          "data": {
            "text/plain": [
              "Order_ID            0\n",
              "Agent_Age           0\n",
              "Agent_Rating       54\n",
              "Store_Latitude      0\n",
              "Store_Longitude     0\n",
              "Drop_Latitude       0\n",
              "Drop_Longitude      0\n",
              "Order_Date          0\n",
              "Order_Time          0\n",
              "Pickup_Time         0\n",
              "Weather            91\n",
              "Traffic             0\n",
              "Vehicle             0\n",
              "Area                0\n",
              "Delivery_Time       0\n",
              "Category            0\n",
              "dtype: int64"
            ]
          },
          "execution_count": 5,
          "metadata": {},
          "output_type": "execute_result"
        }
      ],
      "source": [
        "df.isnull().sum()"
      ]
    },
    {
      "cell_type": "code",
      "execution_count": 6,
      "metadata": {
        "id": "dOam3CC45J-O"
      },
      "outputs": [],
      "source": [
        "from sklearn.impute import SimpleImputer\n",
        "si = SimpleImputer(strategy='mean')\n",
        "df['Agent_Rating']= pd.DataFrame(si.fit_transform(df[['Agent_Rating']]))"
      ]
    },
    {
      "cell_type": "code",
      "execution_count": 7,
      "metadata": {
        "id": "InbeZ7L85J7-"
      },
      "outputs": [
        {
          "name": "stderr",
          "output_type": "stream",
          "text": [
            "C:\\Users\\hp\\AppData\\Local\\Temp\\ipykernel_3096\\527810482.py:1: FutureWarning: A value is trying to be set on a copy of a DataFrame or Series through chained assignment using an inplace method.\n",
            "The behavior will change in pandas 3.0. This inplace method will never work because the intermediate object on which we are setting values always behaves as a copy.\n",
            "\n",
            "For example, when doing 'df[col].method(value, inplace=True)', try using 'df.method({col: value}, inplace=True)' or df[col] = df[col].method(value) instead, to perform the operation inplace on the original object.\n",
            "\n",
            "\n",
            "  df['Weather'].fillna(df['Weather'].mode()[0],inplace=True)\n"
          ]
        }
      ],
      "source": [
        "df['Weather'].fillna(df['Weather'].mode()[0],inplace=True)"
      ]
    },
    {
      "cell_type": "code",
      "execution_count": 8,
      "metadata": {
        "colab": {
          "base_uri": "https://localhost:8080/"
        },
        "id": "n9XOUCQ-5J6V",
        "outputId": "4698dfcd-9b42-4a29-aebc-2ff3f1dcb7b6"
      },
      "outputs": [
        {
          "data": {
            "text/plain": [
              "np.int64(0)"
            ]
          },
          "execution_count": 8,
          "metadata": {},
          "output_type": "execute_result"
        }
      ],
      "source": [
        "df.isnull().sum().sum()"
      ]
    },
    {
      "cell_type": "code",
      "execution_count": 9,
      "metadata": {
        "colab": {
          "base_uri": "https://localhost:8080/"
        },
        "id": "xRRQgJ7D5J3g",
        "outputId": "83772bc9-715e-4ead-9055-e916f9454f93"
      },
      "outputs": [
        {
          "data": {
            "text/plain": [
              "np.int64(0)"
            ]
          },
          "execution_count": 9,
          "metadata": {},
          "output_type": "execute_result"
        }
      ],
      "source": [
        "df.duplicated().sum()"
      ]
    },
    {
      "cell_type": "code",
      "execution_count": 10,
      "metadata": {
        "colab": {
          "base_uri": "https://localhost:8080/",
          "height": 300
        },
        "id": "sAQEroZg5J11",
        "outputId": "fb6d197e-547f-4591-9484-5c4d33e85296"
      },
      "outputs": [
        {
          "data": {
            "text/html": [
              "<div>\n",
              "<style scoped>\n",
              "    .dataframe tbody tr th:only-of-type {\n",
              "        vertical-align: middle;\n",
              "    }\n",
              "\n",
              "    .dataframe tbody tr th {\n",
              "        vertical-align: top;\n",
              "    }\n",
              "\n",
              "    .dataframe thead th {\n",
              "        text-align: right;\n",
              "    }\n",
              "</style>\n",
              "<table border=\"1\" class=\"dataframe\">\n",
              "  <thead>\n",
              "    <tr style=\"text-align: right;\">\n",
              "      <th></th>\n",
              "      <th>Agent_Age</th>\n",
              "      <th>Agent_Rating</th>\n",
              "      <th>Store_Latitude</th>\n",
              "      <th>Store_Longitude</th>\n",
              "      <th>Drop_Latitude</th>\n",
              "      <th>Drop_Longitude</th>\n",
              "      <th>Delivery_Time</th>\n",
              "    </tr>\n",
              "  </thead>\n",
              "  <tbody>\n",
              "    <tr>\n",
              "      <th>count</th>\n",
              "      <td>43739.000000</td>\n",
              "      <td>43739.00000</td>\n",
              "      <td>43739.000000</td>\n",
              "      <td>43739.000000</td>\n",
              "      <td>43739.000000</td>\n",
              "      <td>43739.000000</td>\n",
              "      <td>43739.000000</td>\n",
              "    </tr>\n",
              "    <tr>\n",
              "      <th>mean</th>\n",
              "      <td>29.567137</td>\n",
              "      <td>4.63378</td>\n",
              "      <td>17.210960</td>\n",
              "      <td>70.661177</td>\n",
              "      <td>17.459031</td>\n",
              "      <td>70.821842</td>\n",
              "      <td>124.905645</td>\n",
              "    </tr>\n",
              "    <tr>\n",
              "      <th>std</th>\n",
              "      <td>5.815155</td>\n",
              "      <td>0.33451</td>\n",
              "      <td>7.764225</td>\n",
              "      <td>21.475005</td>\n",
              "      <td>7.342950</td>\n",
              "      <td>21.153148</td>\n",
              "      <td>51.915451</td>\n",
              "    </tr>\n",
              "    <tr>\n",
              "      <th>min</th>\n",
              "      <td>15.000000</td>\n",
              "      <td>1.00000</td>\n",
              "      <td>-30.902872</td>\n",
              "      <td>-88.366217</td>\n",
              "      <td>0.010000</td>\n",
              "      <td>0.010000</td>\n",
              "      <td>10.000000</td>\n",
              "    </tr>\n",
              "    <tr>\n",
              "      <th>25%</th>\n",
              "      <td>25.000000</td>\n",
              "      <td>4.50000</td>\n",
              "      <td>12.933298</td>\n",
              "      <td>73.170283</td>\n",
              "      <td>12.985996</td>\n",
              "      <td>73.280000</td>\n",
              "      <td>90.000000</td>\n",
              "    </tr>\n",
              "    <tr>\n",
              "      <th>50%</th>\n",
              "      <td>30.000000</td>\n",
              "      <td>4.70000</td>\n",
              "      <td>18.551440</td>\n",
              "      <td>75.898497</td>\n",
              "      <td>18.633626</td>\n",
              "      <td>76.002574</td>\n",
              "      <td>125.000000</td>\n",
              "    </tr>\n",
              "    <tr>\n",
              "      <th>75%</th>\n",
              "      <td>35.000000</td>\n",
              "      <td>4.90000</td>\n",
              "      <td>22.732225</td>\n",
              "      <td>78.045359</td>\n",
              "      <td>22.785049</td>\n",
              "      <td>78.104095</td>\n",
              "      <td>160.000000</td>\n",
              "    </tr>\n",
              "    <tr>\n",
              "      <th>max</th>\n",
              "      <td>50.000000</td>\n",
              "      <td>6.00000</td>\n",
              "      <td>30.914057</td>\n",
              "      <td>88.433452</td>\n",
              "      <td>31.054057</td>\n",
              "      <td>88.563452</td>\n",
              "      <td>270.000000</td>\n",
              "    </tr>\n",
              "  </tbody>\n",
              "</table>\n",
              "</div>"
            ],
            "text/plain": [
              "          Agent_Age  Agent_Rating  Store_Latitude  Store_Longitude  \\\n",
              "count  43739.000000   43739.00000    43739.000000     43739.000000   \n",
              "mean      29.567137       4.63378       17.210960        70.661177   \n",
              "std        5.815155       0.33451        7.764225        21.475005   \n",
              "min       15.000000       1.00000      -30.902872       -88.366217   \n",
              "25%       25.000000       4.50000       12.933298        73.170283   \n",
              "50%       30.000000       4.70000       18.551440        75.898497   \n",
              "75%       35.000000       4.90000       22.732225        78.045359   \n",
              "max       50.000000       6.00000       30.914057        88.433452   \n",
              "\n",
              "       Drop_Latitude  Drop_Longitude  Delivery_Time  \n",
              "count   43739.000000    43739.000000   43739.000000  \n",
              "mean       17.459031       70.821842     124.905645  \n",
              "std         7.342950       21.153148      51.915451  \n",
              "min         0.010000        0.010000      10.000000  \n",
              "25%        12.985996       73.280000      90.000000  \n",
              "50%        18.633626       76.002574     125.000000  \n",
              "75%        22.785049       78.104095     160.000000  \n",
              "max        31.054057       88.563452     270.000000  "
            ]
          },
          "execution_count": 10,
          "metadata": {},
          "output_type": "execute_result"
        }
      ],
      "source": [
        "df.describe()"
      ]
    },
    {
      "cell_type": "code",
      "execution_count": 11,
      "metadata": {
        "colab": {
          "base_uri": "https://localhost:8080/"
        },
        "id": "ce6gC0wq5Jzt",
        "outputId": "be4f7d59-5b3f-49b6-d3c8-e55eca726287"
      },
      "outputs": [
        {
          "name": "stdout",
          "output_type": "stream",
          "text": [
            "<class 'pandas.core.frame.DataFrame'>\n",
            "RangeIndex: 43739 entries, 0 to 43738\n",
            "Data columns (total 16 columns):\n",
            " #   Column           Non-Null Count  Dtype  \n",
            "---  ------           --------------  -----  \n",
            " 0   Order_ID         43739 non-null  object \n",
            " 1   Agent_Age        43739 non-null  int64  \n",
            " 2   Agent_Rating     43739 non-null  float64\n",
            " 3   Store_Latitude   43739 non-null  float64\n",
            " 4   Store_Longitude  43739 non-null  float64\n",
            " 5   Drop_Latitude    43739 non-null  float64\n",
            " 6   Drop_Longitude   43739 non-null  float64\n",
            " 7   Order_Date       43739 non-null  object \n",
            " 8   Order_Time       43739 non-null  object \n",
            " 9   Pickup_Time      43739 non-null  object \n",
            " 10  Weather          43739 non-null  object \n",
            " 11  Traffic          43739 non-null  object \n",
            " 12  Vehicle          43739 non-null  object \n",
            " 13  Area             43739 non-null  object \n",
            " 14  Delivery_Time    43739 non-null  int64  \n",
            " 15  Category         43739 non-null  object \n",
            "dtypes: float64(5), int64(2), object(9)\n",
            "memory usage: 5.3+ MB\n"
          ]
        }
      ],
      "source": [
        "df.info()"
      ]
    },
    {
      "cell_type": "code",
      "execution_count": 12,
      "metadata": {},
      "outputs": [
        {
          "name": "stdout",
          "output_type": "stream",
          "text": [
            "Requirement already satisfied: geopy in g:\\gitdemo\\mlops-experiments-with-mlflow\\venv\\lib\\site-packages (2.4.1)\n",
            "Requirement already satisfied: geographiclib<3,>=1.52 in g:\\gitdemo\\mlops-experiments-with-mlflow\\venv\\lib\\site-packages (from geopy) (2.0)\n",
            "Note: you may need to restart the kernel to use updated packages.\n"
          ]
        },
        {
          "name": "stderr",
          "output_type": "stream",
          "text": [
            "\n",
            "[notice] A new release of pip is available: 24.3.1 -> 25.1.1\n",
            "[notice] To update, run: python.exe -m pip install --upgrade pip\n"
          ]
        }
      ],
      "source": [
        "pip install geopy\n"
      ]
    },
    {
      "cell_type": "code",
      "execution_count": 13,
      "metadata": {
        "id": "f1e6m1t-H45f"
      },
      "outputs": [],
      "source": [
        "#Use geolocations to calculate distance between store and drop point:\n",
        "\n",
        "from geopy.distance import geodesic\n",
        "\n",
        "def compute_distance(row):\n",
        "    store = (row['Store_Latitude'], row['Store_Longitude'])\n",
        "    drop = (row['Drop_Latitude'], row['Drop_Longitude'])\n",
        "    return geodesic(store, drop).km\n",
        "\n",
        "df['Distance_km'] = df.apply(compute_distance, axis=1)\n"
      ]
    },
    {
      "cell_type": "code",
      "execution_count": 14,
      "metadata": {},
      "outputs": [
        {
          "name": "stdout",
          "output_type": "stream",
          "text": [
            "   Store_Latitude  Store_Longitude  Drop_Latitude  Drop_Longitude  Distance_km\n",
            "0       22.745049        75.892471      22.765049       75.912471     3.020737\n",
            "1       12.913041        77.683237      13.043041       77.813237    20.143737\n",
            "2       12.914264        77.678400      12.924264       77.688400     1.549693\n",
            "3       11.003669        76.976494      11.053669       77.026494     7.774497\n",
            "4       12.972793        80.249982      13.012793       80.289982     6.197898\n"
          ]
        }
      ],
      "source": [
        "print(df[['Store_Latitude', 'Store_Longitude', 'Drop_Latitude', 'Drop_Longitude', 'Distance_km']].head())\n"
      ]
    },
    {
      "cell_type": "code",
      "execution_count": 15,
      "metadata": {},
      "outputs": [
        {
          "name": "stderr",
          "output_type": "stream",
          "text": [
            "C:\\Users\\hp\\AppData\\Local\\Temp\\ipykernel_3096\\2811597692.py:1: FutureWarning: A value is trying to be set on a copy of a DataFrame or Series through chained assignment using an inplace method.\n",
            "The behavior will change in pandas 3.0. This inplace method will never work because the intermediate object on which we are setting values always behaves as a copy.\n",
            "\n",
            "For example, when doing 'df[col].method(value, inplace=True)', try using 'df.method({col: value}, inplace=True)' or df[col] = df[col].method(value) instead, to perform the operation inplace on the original object.\n",
            "\n",
            "\n",
            "  df['Order_Time'].fillna(pd.Timestamp(\"2023-01-01\"), inplace=True)\n"
          ]
        }
      ],
      "source": [
        "df['Order_Time'].fillna(pd.Timestamp(\"2023-01-01\"), inplace=True)"
      ]
    },
    {
      "cell_type": "code",
      "execution_count": 16,
      "metadata": {},
      "outputs": [],
      "source": [
        "df['Order_Date']=df['Order_Date'].astype('datetime64[ns]')\n",
        "df['Pickup_Time']=df['Pickup_Time'].astype('datetime64[ns]')"
      ]
    },
    {
      "cell_type": "code",
      "execution_count": 17,
      "metadata": {
        "id": "aqqm_bOkIMS0"
      },
      "outputs": [
        {
          "name": "stderr",
          "output_type": "stream",
          "text": [
            "C:\\Users\\hp\\AppData\\Local\\Temp\\ipykernel_3096\\688178245.py:2: UserWarning: Could not infer format, so each element will be parsed individually, falling back to `dateutil`. To ensure parsing is consistent and as-expected, please specify a format.\n",
            "  df['Order_Time'] = pd.to_datetime(df['Order_Time'], errors='coerce')\n"
          ]
        }
      ],
      "source": [
        "#Extract Time Features\n",
        "df['Order_Time'] = pd.to_datetime(df['Order_Time'], errors='coerce')\n",
        "df['Pickup_Time'] = pd.to_datetime(df['Pickup_Time'], errors='coerce')\n",
        "\n",
        "df['Order_Hour'] = df['Order_Time'].dt.hour\n",
        "df['Order_Day'] = df['Order_Time'].dt.day\n",
        "df['Pickup_Delay_Minutes'] = (df['Pickup_Time'] - df['Order_Time']).dt.total_seconds() / 60.0\n"
      ]
    },
    {
      "cell_type": "code",
      "execution_count": 18,
      "metadata": {
        "id": "6ERE5uoz8q_d"
      },
      "outputs": [],
      "source": [
        "df['Delivery_Time']=df['Delivery_Time'].astype('datetime64[ns]')"
      ]
    },
    {
      "cell_type": "code",
      "execution_count": 19,
      "metadata": {
        "colab": {
          "base_uri": "https://localhost:8080/"
        },
        "id": "-UYPWSYPDDxr",
        "outputId": "8ef26166-a5b1-4694-ba35-ab58a1c62916"
      },
      "outputs": [
        {
          "name": "stderr",
          "output_type": "stream",
          "text": [
            "C:\\Users\\hp\\AppData\\Local\\Temp\\ipykernel_3096\\981118761.py:1: UserWarning: Pandas doesn't allow columns to be created via a new attribute name - see https://pandas.pydata.org/pandas-docs/stable/indexing.html#attribute-access\n",
            "  df.columnsselected_features = [\n"
          ]
        }
      ],
      "source": [
        "df.columnsselected_features = [\n",
        "    'Agent_Age',\n",
        "    'Agent_Rating',\n",
        "    'Weather',\n",
        "    'Traffic',\n",
        "    'Vehicle',\n",
        "    'Area',\n",
        "    'Category',\n",
        "    'Distance_km',\n",
        "    'Order_Hour',\n",
        "    'Order_Day',\n",
        "    'Pickup_Delay_Minutes'\n",
        "]"
      ]
    },
    {
      "cell_type": "code",
      "execution_count": 20,
      "metadata": {},
      "outputs": [],
      "source": [
        "columns_to_drop = ['Order_ID', 'Order_Date','Order_Time', 'Pickup_Time', 'Store_Latitude', 'Store_Longitude','Drop_Latitude','Drop_Longitude']\n",
        "df.drop(columns=columns_to_drop, inplace=True)\n"
      ]
    },
    {
      "cell_type": "code",
      "execution_count": 21,
      "metadata": {},
      "outputs": [
        {
          "data": {
            "text/plain": [
              "Index(['Agent_Age', 'Agent_Rating', 'Weather', 'Traffic', 'Vehicle', 'Area',\n",
              "       'Delivery_Time', 'Category', 'Distance_km', 'Order_Hour', 'Order_Day',\n",
              "       'Pickup_Delay_Minutes'],\n",
              "      dtype='object')"
            ]
          },
          "execution_count": 21,
          "metadata": {},
          "output_type": "execute_result"
        }
      ],
      "source": [
        "df.columns\n"
      ]
    },
    {
      "cell_type": "code",
      "execution_count": 22,
      "metadata": {},
      "outputs": [],
      "source": [
        "from sklearn.model_selection import train_test_split\n",
        "\n",
        "x = df.drop(columns=['Delivery_Time'])  \n",
        "y= df['Delivery_Time']                \n",
        "\n",
        "x_train, x_test, y_train, y_test = train_test_split(x,y, test_size=0.2, random_state=42)\n"
      ]
    },
    {
      "cell_type": "code",
      "execution_count": 23,
      "metadata": {},
      "outputs": [
        {
          "data": {
            "text/plain": [
              "Index(['Agent_Age', 'Agent_Rating', 'Weather', 'Traffic', 'Vehicle', 'Area',\n",
              "       'Category', 'Distance_km', 'Order_Hour', 'Order_Day',\n",
              "       'Pickup_Delay_Minutes'],\n",
              "      dtype='object')"
            ]
          },
          "execution_count": 23,
          "metadata": {},
          "output_type": "execute_result"
        }
      ],
      "source": [
        "x.columns"
      ]
    },
    {
      "cell_type": "code",
      "execution_count": 24,
      "metadata": {},
      "outputs": [],
      "source": [
        "from sklearn.preprocessing import OneHotEncoder, StandardScaler\n",
        "from sklearn.compose import ColumnTransformer\n",
        "from sklearn.pipeline import Pipeline\n"
      ]
    },
    {
      "cell_type": "code",
      "execution_count": null,
      "metadata": {},
      "outputs": [],
      "source": []
    },
    {
      "cell_type": "code",
      "execution_count": 25,
      "metadata": {},
      "outputs": [],
      "source": [
        "from sklearn.ensemble import  GradientBoostingRegressor"
      ]
    },
    {
      "cell_type": "code",
      "execution_count": 26,
      "metadata": {},
      "outputs": [],
      "source": [
        "#evaluate models\n",
        "\n",
        "#  DATA \n",
        "target = 'Delivery_Time'\n",
        "X = df.drop(columns=target)\n",
        "y = df[target]\n",
        "x_train, x_test, y_train, y_test = train_test_split( X, y, test_size=0.2, random_state=42)\n",
        "\n"
      ]
    },
    {
      "cell_type": "code",
      "execution_count": 27,
      "metadata": {},
      "outputs": [],
      "source": [
        "from sklearn.ensemble import RandomForestRegressor"
      ]
    },
    {
      "cell_type": "code",
      "execution_count": 28,
      "metadata": {},
      "outputs": [],
      "source": [
        "#  PREPROCESSING \n",
        "cat_cols = ['Weather', 'Traffic', 'Vehicle', 'Area', 'Category']\n",
        "num_cols = ['Order_Hour', 'Order_Day', 'Distance_km']\n",
        "\n",
        "preprocess = ColumnTransformer([\n",
        "    ('num', Pipeline([\n",
        "        ('imputer', SimpleImputer(strategy='mean')),\n",
        "        ('scaler', StandardScaler())\n",
        "    ]), num_cols),\n",
        "    ('cat', Pipeline([\n",
        "        ('imputer', SimpleImputer(strategy='most_frequent')),\n",
        "        ('onehot', OneHotEncoder(handle_unknown='ignore'))\n",
        "    ]), cat_cols)\n",
        "])\n",
        "\n"
      ]
    },
    {
      "cell_type": "code",
      "execution_count": 29,
      "metadata": {},
      "outputs": [],
      "source": [
        "# Build pipeline with model\n",
        "model = Pipeline([\n",
        "    ('prep', preprocess),\n",
        "    ('reg', GradientBoostingRegressor(n_estimators=100, random_state=42))  # or any one model\n",
        "])\n"
      ]
    },
    {
      "cell_type": "code",
      "execution_count": 30,
      "metadata": {},
      "outputs": [],
      "source": [
        "#MODELS TO TRY\n",
        "models = {\n",
        "    'LinearRegression': LinearRegression(),\n",
        "    'RandomForest': RandomForestRegressor(n_estimators=100, random_state=42),\n",
        "    'GradientBoosting': GradientBoostingRegressor(n_estimators=100, random_state=42)\n",
        "}\n"
      ]
    },
    {
      "cell_type": "code",
      "execution_count": 31,
      "metadata": {},
      "outputs": [],
      "source": [
        "from sklearn.metrics import mean_absolute_error, mean_squared_error, r2_score"
      ]
    },
    {
      "cell_type": "code",
      "execution_count": 32,
      "metadata": {},
      "outputs": [
        {
          "name": "stdout",
          "output_type": "stream",
          "text": [
            "LinearRegression   MAE: 30.05  RMSE: 1407.77  R²: 0.472\n",
            "🏃 View run LinearRegression at: https://dagshub.com/Sandhya234-wq/MLOPS-Experiments-with-MLFlow.mlflow/#/experiments/0/runs/24691ee32fe243eebee05d4fd4e144b9\n",
            "🧪 View experiment at: https://dagshub.com/Sandhya234-wq/MLOPS-Experiments-with-MLFlow.mlflow/#/experiments/0\n",
            "RandomForest       MAE: 25.39  RMSE: 1104.57  R²: 0.585\n",
            "🏃 View run RandomForest at: https://dagshub.com/Sandhya234-wq/MLOPS-Experiments-with-MLFlow.mlflow/#/experiments/0/runs/061b06412dee46d7a17680a451b64d48\n",
            "🧪 View experiment at: https://dagshub.com/Sandhya234-wq/MLOPS-Experiments-with-MLFlow.mlflow/#/experiments/0\n",
            "GradientBoosting   MAE: 24.96  RMSE: 1022.07  R²: 0.616\n",
            "🏃 View run GradientBoosting at: https://dagshub.com/Sandhya234-wq/MLOPS-Experiments-with-MLFlow.mlflow/#/experiments/0/runs/9b5ac4cec2c447e1b0e9ecf15c0506eb\n",
            "🧪 View experiment at: https://dagshub.com/Sandhya234-wq/MLOPS-Experiments-with-MLFlow.mlflow/#/experiments/0\n"
          ]
        }
      ],
      "source": [
        "# TRAIN, PREDICT, EVALUATE\n",
        "for amazon, reg in models.items():\n",
        "\n",
        "    pipe = Pipeline([('prep', preprocess), ('reg', reg)])\n",
        "    with mlflow.start_run(run_name=amazon):\n",
        "        pipe.fit(x_train, y_train)\n",
        "        preds = pipe.predict(x_test)\n",
        "\n",
        "        mae = mean_absolute_error(y_test, preds)\n",
        "        rmse = mean_squared_error(y_test, preds)\n",
        "        r2 = r2_score(y_test, preds)\n",
        "\n",
        "        print(f\"{amazon:17}  MAE: {mae:.2f}  RMSE: {rmse:.2f}  R²: {r2:.3f}\")\n",
        "        # Log metrics to MLflow\n",
        "\n",
        "        \n",
        "        mlflow.log_param(\"model_name\", amazon)\n",
        "        mlflow.log_metric(\"MAE\", mae)\n",
        "        mlflow.log_metric(\"RMSE\", rmse)\n",
        "        mlflow.log_metric(\"R2\", r2)"
      ]
    },
    {
      "cell_type": "code",
      "execution_count": 33,
      "metadata": {},
      "outputs": [],
      "source": [
        "#mlflow.sklearn.log_model(pipe, artifact_path=\"model\")"
      ]
    },
    {
      "cell_type": "code",
      "execution_count": 36,
      "metadata": {},
      "outputs": [
        {
          "data": {
            "text/plain": [
              "['model_6.pkl']"
            ]
          },
          "execution_count": 36,
          "metadata": {},
          "output_type": "execute_result"
        }
      ],
      "source": [
        "import joblib\n",
        "joblib.dump(pipe, \"model_6.pkl\")\n"
      ]
    },
    {
      "cell_type": "code",
      "execution_count": null,
      "metadata": {},
      "outputs": [],
      "source": []
    },
    {
      "cell_type": "code",
      "execution_count": null,
      "metadata": {},
      "outputs": [],
      "source": []
    },
    {
      "cell_type": "code",
      "execution_count": null,
      "metadata": {},
      "outputs": [],
      "source": []
    },
    {
      "cell_type": "code",
      "execution_count": null,
      "metadata": {},
      "outputs": [],
      "source": []
    }
  ],
  "metadata": {
    "colab": {
      "provenance": []
    },
    "kernelspec": {
      "display_name": "venv",
      "language": "python",
      "name": "python3"
    },
    "language_info": {
      "codemirror_mode": {
        "name": "ipython",
        "version": 3
      },
      "file_extension": ".py",
      "mimetype": "text/x-python",
      "name": "python",
      "nbconvert_exporter": "python",
      "pygments_lexer": "ipython3",
      "version": "3.13.2"
    }
  },
  "nbformat": 4,
  "nbformat_minor": 0
}
